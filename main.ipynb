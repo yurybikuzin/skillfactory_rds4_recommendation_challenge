{
 "cells": [
  {
   "cell_type": "markdown",
   "metadata": {},
   "source": [
    "Задача проекта:\n",
    "\n",
    "     Увеличить средний чек продаж. Для этого необходимо построить рекомендательную систему.\n",
    "     \n",
    "Цели проекта:\n",
    "\n",
    "    1)Сформулировать предположения и гипотезы для дальнейшего построения модели.\n",
    "    2)Проверить качество данных и очистить их, сгенерировать новые фичи.\n",
    "    3)Определиться с параметрами модели.\n",
    "    4)Построить модель, которая могла бы давать рекомендации к item/user.\n",
    "    5)Решить проблему cold start (холодного запуска) для пользователей, которых нет в тренировочной выборке.\n",
    "    6)Составить финальный отчёт, в котором будет указано, как предлагаемая рекомендательная система отразится на показателях бизнеса. "
   ]
  },
  {
   "cell_type": "markdown",
   "metadata": {},
   "source": [
    "Основные шаги:\n",
    "\n",
    "    EDA.\n",
    "    Формирование данных для модели.\n",
    "    Построение модели.\n",
    "    Тестирование модели.\n",
    "    Улучшение модели.\n",
    "    Production."
   ]
  },
  {
   "cell_type": "code",
   "execution_count": 75,
   "metadata": {
    "_cell_guid": "b1076dfc-b9ad-4769-8c92-a6c4dae69d19",
    "_uuid": "8f2839f25d086af736a60e9eeb907d3b93b6e0e5"
   },
   "outputs": [],
   "source": [
    "import numpy as np \n",
    "import pandas as pd \n",
    "\n",
    "import scipy.sparse as sparse\n",
    "\n",
    "from lightfm import LightFM\n",
    "from lightfm.cross_validation import random_train_test_split\n",
    "from lightfm.evaluation import auc_score, precision_at_k, recall_at_k\n",
    "import sklearn\n",
    "from sklearn.model_selection import train_test_split\n",
    "\n",
    "from sklearn.preprocessing import LabelEncoder\n",
    "\n",
    "from sklearn.preprocessing import StandardScaler"
   ]
  },
  {
   "cell_type": "markdown",
   "metadata": {},
   "source": [
    "# Загрузка данных."
   ]
  },
  {
   "cell_type": "code",
   "execution_count": 76,
   "metadata": {
    "_cell_guid": "79c7e3d0-c299-4dcb-8224-4455121ee9b0",
    "_uuid": "d629ff2d2480ee46fbb7e2d37f6b5fab8052498a",
    "scrolled": true
   },
   "outputs": [],
   "source": [
    "# https://stackoverflow.com/questions/1592565/determine-if-variable-is-defined-in-python/1592578#1592578\n",
    "try:\n",
    "    train\n",
    "except NameError:\n",
    "    train = pd.read_csv('data/train.csv.zip', low_memory=False,thousands=',')\n",
    "    train = train.drop_duplicates().reset_index(drop = True) # удалим дубликаты, если есть\n",
    "\n",
    "try:\n",
    "    test\n",
    "except NameError:\n",
    "    test = pd.read_csv('data/test.csv.zip', low_memory=False,thousands=',')\n",
    "\n",
    "try:\n",
    "    submission\n",
    "except NameError:\n",
    "    submission = pd.read_csv('data/sample_submission.csv.zip', low_memory=False)"
   ]
  },
  {
   "cell_type": "code",
   "execution_count": 77,
   "metadata": {},
   "outputs": [
    {
     "name": "stdout",
     "output_type": "stream",
     "text": [
      "<class 'pandas.core.frame.DataFrame'>\n",
      "RangeIndex: 42003 entries, 0 to 42002\n",
      "Data columns (total 7 columns):\n",
      " #   Column       Non-Null Count  Dtype \n",
      "---  ------       --------------  ----- \n",
      " 0   itemid       42003 non-null  int64 \n",
      " 1   brand        41574 non-null  object\n",
      " 2   description  38588 non-null  object\n",
      " 3   title        42003 non-null  object\n",
      " 4   main_cat     41920 non-null  object\n",
      " 5   price        25786 non-null  object\n",
      " 6   is_train     42003 non-null  bool  \n",
      "dtypes: bool(1), int64(1), object(5)\n",
      "memory usage: 2.0+ MB\n",
      "None    itemid                  brand  \\\n",
      "0       1                 Lipton   \n",
      "1       0                 Lipton   \n",
      "2       2            Organo Gold   \n",
      "3       3               Mae Ploy   \n",
      "4       4  Harold Import Company   \n",
      "\n",
      "                                         description  \\\n",
      "0  Lipton Yellow Label Tea use only the finest te...   \n",
      "1  Lipton Yellow Label Teabags uses a new way to ...   \n",
      "2  20 Sachets\\n\\nEmpty contents into cup\\nPour 8o...   \n",
      "3  Mae Ploy Thai green curry paste.\\n\\nIngredient...   \n",
      "4  This set is a great value from one of the grea...   \n",
      "\n",
      "                                               title     main_cat   price  \\\n",
      "0         Lipton Yellow Label Tea (loose tea) - 450g      Grocery  $12.46   \n",
      "1  Lipton Yellow Label Finest Blend Tea Bags 100 ...      Grocery  $12.98   \n",
      "2  Organo Gold Cafe Supreme 100% Certified Ganode...      Grocery  $29.90   \n",
      "3                  Mae Ploy Green Curry Paste, 14 oz      Grocery     NaN   \n",
      "4                  Ateco Food Coloring Kit, 6 colors  Amazon Home     NaN   \n",
      "\n",
      "   is_train  \n",
      "0      True  \n",
      "1      True  \n",
      "2      True  \n",
      "3      True  \n",
      "4      True  \n",
      "<class 'pandas.core.frame.DataFrame'>\n",
      "RangeIndex: 166917 entries, 0 to 166916\n",
      "Data columns (total 3 columns):\n",
      " #   Column    Non-Null Count   Dtype \n",
      "---  ------    --------------   ----- \n",
      " 0   itemid    166917 non-null  int64 \n",
      " 1   category  166917 non-null  object\n",
      " 2   is_train  166917 non-null  bool  \n",
      "dtypes: bool(1), int64(1), object(1)\n",
      "memory usage: 2.7+ MB\n",
      "None    itemid                category  is_train\n",
      "0       1  Grocery & Gourmet Food      True\n",
      "1       1               Beverages      True\n",
      "2       1     Coffee, Tea & Cocoa      True\n",
      "3       1                     Tea      True\n",
      "4       1                   Black      True\n",
      "<class 'pandas.core.frame.DataFrame'>\n",
      "RangeIndex: 178606 entries, 0 to 178605\n",
      "Data columns (total 3 columns):\n",
      " #   Column            Non-Null Count   Dtype\n",
      "---  ------            --------------   -----\n",
      " 0   itemid            178606 non-null  int64\n",
      " 1   also_view_itemid  178606 non-null  int64\n",
      " 2   is_train          178606 non-null  bool \n",
      "dtypes: bool(1), int64(2)\n",
      "memory usage: 2.9 MB\n",
      "None    itemid  also_view_itemid  is_train\n",
      "0       1              9433      True\n",
      "1       1              2990      True\n",
      "2       1             10750      True\n",
      "3       1             19204      True\n",
      "4       1              2991      True\n"
     ]
    }
   ],
   "source": [
    "# from meta_Grocery_and_Gourmet_Food.json\n",
    "\n",
    "# try:\n",
    "#     json\n",
    "# except NameError:\n",
    "#     json = pd.read_csv('data/json.csv.zip', low_memory=False)\n",
    "# print(json.info(), json.head())\n",
    "\n",
    "force_reload = True\n",
    "infix = '_used'\n",
    "suffix = '.zip'\n",
    "try:\n",
    "    normalized\n",
    "    if force_reload:\n",
    "        raise NameError('force_load')\n",
    "except NameError:\n",
    "    normalized = pd.read_csv(f'data/normalized{infix}.csv{suffix}', low_memory=False)\n",
    "print(normalized.info(), normalized.head())\n",
    "    \n",
    "try:\n",
    "    category\n",
    "    if force_reload:\n",
    "        raise NameError('force_load')\n",
    "except NameError:\n",
    "    category = pd.read_csv(f'data/category{infix}.csv{suffix}', low_memory=False)\n",
    "print(category.info(), category.head())\n",
    "    \n",
    "try:\n",
    "    also_view\n",
    "    if force_reload:\n",
    "        raise NameError('force_load')\n",
    "except NameError:\n",
    "    also_view = pd.read_csv(f'data/also_view{infix}.csv{suffix}', low_memory=False)\n",
    "print(also_view.info(), also_view.head())"
   ]
  },
  {
   "cell_type": "code",
   "execution_count": 4,
   "metadata": {},
   "outputs": [],
   "source": [
    "# Этот участок кода требуется запустить единоразово.\n",
    "# itemid_asin = train[['itemid', 'asin']]\n",
    "# itemid_asin_test = test[['itemid', 'asin']]\n",
    "# print(itemid_asin.info(), itemid_asin_test.info())\n",
    "# itemid_asin = itemid_asin.drop_duplicates().reset_index(drop = True)\n",
    "# itemid_asin_test = itemid_asin_test.drop_duplicates().reset_index(drop = True)\n",
    "# print(itemid_asin.info(), itemid_asin_test.info())\n",
    "# itemid_asin_concat = pd.concat([itemid_asin, itemid_asin_test]).drop_duplicates().reset_index(drop = True)\n",
    "# print(itemid_asin_concat.info())\n",
    "# itemid_asin_concat.to_csv('data/itemid_asin.csv')"
   ]
  },
  {
   "cell_type": "markdown",
   "metadata": {},
   "source": [
    "# Шаг 1. EDA."
   ]
  },
  {
   "cell_type": "code",
   "execution_count": 78,
   "metadata": {},
   "outputs": [],
   "source": [
    "def describe(df, field_name):\n",
    "    print(f\"Колонка \\\"{field_name}\\\":\")\n",
    "    print(\"------\")\n",
    "    print(\"na:\", df[field_name].isna().sum())\n",
    "    print(\"уникальных значений:\", len(df[field_name].unique()))\n",
    "    print(\"------\")\n",
    "    print(df[field_name].value_counts())  \n",
    "    \n",
    "def param_data(data): # посмотрим на данные\n",
    "    \"\"\"dataset required parameters \"\"\"\n",
    "    param = pd.DataFrame({\n",
    "              'dtypes': data.dtypes.values,\n",
    "              'nunique': data.nunique().values,\n",
    "              'isna': data.isna().sum().values,\n",
    "              'loc[0]': data.loc[0].values,\n",
    "              }, \n",
    "             index = data.loc[0].index)\n",
    "    return param"
   ]
  },
  {
   "cell_type": "code",
   "execution_count": 79,
   "metadata": {},
   "outputs": [
    {
     "data": {
      "text/html": [
       "<div>\n",
       "<style scoped>\n",
       "    .dataframe tbody tr th:only-of-type {\n",
       "        vertical-align: middle;\n",
       "    }\n",
       "\n",
       "    .dataframe tbody tr th {\n",
       "        vertical-align: top;\n",
       "    }\n",
       "\n",
       "    .dataframe thead tr th {\n",
       "        text-align: left;\n",
       "    }\n",
       "</style>\n",
       "<table border=\"1\" class=\"dataframe\">\n",
       "  <thead>\n",
       "    <tr>\n",
       "      <th></th>\n",
       "      <th colspan=\"4\" halign=\"left\">↓ ОБУЧАЮЩАЯ ВЫБОРКА ↓ (826895, 14)</th>\n",
       "      <th colspan=\"4\" halign=\"left\">↓ ТЕСТОВАЯ ВЫБОРКА ↓ (285965, 11)</th>\n",
       "    </tr>\n",
       "    <tr>\n",
       "      <th></th>\n",
       "      <th>dtypes</th>\n",
       "      <th>nunique</th>\n",
       "      <th>isna</th>\n",
       "      <th>loc[0]</th>\n",
       "      <th>dtypes</th>\n",
       "      <th>nunique</th>\n",
       "      <th>isna</th>\n",
       "      <th>loc[0]</th>\n",
       "    </tr>\n",
       "  </thead>\n",
       "  <tbody>\n",
       "    <tr>\n",
       "      <th>overall</th>\n",
       "      <td>float64</td>\n",
       "      <td>5.0</td>\n",
       "      <td>0.0</td>\n",
       "      <td>5</td>\n",
       "      <td>NaN</td>\n",
       "      <td>NaN</td>\n",
       "      <td>NaN</td>\n",
       "      <td>NaN</td>\n",
       "    </tr>\n",
       "    <tr>\n",
       "      <th>verified</th>\n",
       "      <td>bool</td>\n",
       "      <td>2.0</td>\n",
       "      <td>0.0</td>\n",
       "      <td>True</td>\n",
       "      <td>bool</td>\n",
       "      <td>2.0</td>\n",
       "      <td>0.0</td>\n",
       "      <td>True</td>\n",
       "    </tr>\n",
       "    <tr>\n",
       "      <th>reviewTime</th>\n",
       "      <td>object</td>\n",
       "      <td>4580.0</td>\n",
       "      <td>0.0</td>\n",
       "      <td>10 4, 2016</td>\n",
       "      <td>object</td>\n",
       "      <td>4349.0</td>\n",
       "      <td>0.0</td>\n",
       "      <td>10 1, 2016</td>\n",
       "    </tr>\n",
       "    <tr>\n",
       "      <th>asin</th>\n",
       "      <td>object</td>\n",
       "      <td>41302.0</td>\n",
       "      <td>0.0</td>\n",
       "      <td>B01CPNIEQG</td>\n",
       "      <td>object</td>\n",
       "      <td>37876.0</td>\n",
       "      <td>0.0</td>\n",
       "      <td>B001E5E3X0</td>\n",
       "    </tr>\n",
       "    <tr>\n",
       "      <th>reviewerName</th>\n",
       "      <td>object</td>\n",
       "      <td>101207.0</td>\n",
       "      <td>164.0</td>\n",
       "      <td>Heather</td>\n",
       "      <td>object</td>\n",
       "      <td>86815.0</td>\n",
       "      <td>47.0</td>\n",
       "      <td>Rudys Mom</td>\n",
       "    </tr>\n",
       "    <tr>\n",
       "      <th>reviewText</th>\n",
       "      <td>object</td>\n",
       "      <td>686739.0</td>\n",
       "      <td>274.0</td>\n",
       "      <td>These are my FAVORITE spices in my collection....</td>\n",
       "      <td>NaN</td>\n",
       "      <td>NaN</td>\n",
       "      <td>NaN</td>\n",
       "      <td>NaN</td>\n",
       "    </tr>\n",
       "    <tr>\n",
       "      <th>summary</th>\n",
       "      <td>object</td>\n",
       "      <td>411451.0</td>\n",
       "      <td>166.0</td>\n",
       "      <td>Must Add to your Spice kitchen!</td>\n",
       "      <td>NaN</td>\n",
       "      <td>NaN</td>\n",
       "      <td>NaN</td>\n",
       "      <td>NaN</td>\n",
       "    </tr>\n",
       "    <tr>\n",
       "      <th>unixReviewTime</th>\n",
       "      <td>int64</td>\n",
       "      <td>4580.0</td>\n",
       "      <td>0.0</td>\n",
       "      <td>1475539200</td>\n",
       "      <td>int64</td>\n",
       "      <td>4349.0</td>\n",
       "      <td>0.0</td>\n",
       "      <td>1475280000</td>\n",
       "    </tr>\n",
       "    <tr>\n",
       "      <th>vote</th>\n",
       "      <td>float64</td>\n",
       "      <td>311.0</td>\n",
       "      <td>712944.0</td>\n",
       "      <td>NaN</td>\n",
       "      <td>float64</td>\n",
       "      <td>198.0</td>\n",
       "      <td>246503.0</td>\n",
       "      <td>NaN</td>\n",
       "    </tr>\n",
       "    <tr>\n",
       "      <th>style</th>\n",
       "      <td>object</td>\n",
       "      <td>25892.0</td>\n",
       "      <td>398698.0</td>\n",
       "      <td>NaN</td>\n",
       "      <td>object</td>\n",
       "      <td>18904.0</td>\n",
       "      <td>138285.0</td>\n",
       "      <td>NaN</td>\n",
       "    </tr>\n",
       "    <tr>\n",
       "      <th>image</th>\n",
       "      <td>object</td>\n",
       "      <td>6636.0</td>\n",
       "      <td>819916.0</td>\n",
       "      <td>NaN</td>\n",
       "      <td>object</td>\n",
       "      <td>2306.0</td>\n",
       "      <td>283597.0</td>\n",
       "      <td>NaN</td>\n",
       "    </tr>\n",
       "    <tr>\n",
       "      <th>userid</th>\n",
       "      <td>int64</td>\n",
       "      <td>127448.0</td>\n",
       "      <td>0.0</td>\n",
       "      <td>102179</td>\n",
       "      <td>int64</td>\n",
       "      <td>109357.0</td>\n",
       "      <td>0.0</td>\n",
       "      <td>68877</td>\n",
       "    </tr>\n",
       "    <tr>\n",
       "      <th>itemid</th>\n",
       "      <td>int64</td>\n",
       "      <td>41302.0</td>\n",
       "      <td>0.0</td>\n",
       "      <td>37138</td>\n",
       "      <td>int64</td>\n",
       "      <td>37876.0</td>\n",
       "      <td>0.0</td>\n",
       "      <td>7506</td>\n",
       "    </tr>\n",
       "    <tr>\n",
       "      <th>rating</th>\n",
       "      <td>float64</td>\n",
       "      <td>2.0</td>\n",
       "      <td>0.0</td>\n",
       "      <td>1</td>\n",
       "      <td>NaN</td>\n",
       "      <td>NaN</td>\n",
       "      <td>NaN</td>\n",
       "      <td>NaN</td>\n",
       "    </tr>\n",
       "    <tr>\n",
       "      <th>Id</th>\n",
       "      <td>NaN</td>\n",
       "      <td>NaN</td>\n",
       "      <td>NaN</td>\n",
       "      <td>NaN</td>\n",
       "      <td>int64</td>\n",
       "      <td>285965.0</td>\n",
       "      <td>0.0</td>\n",
       "      <td>0</td>\n",
       "    </tr>\n",
       "  </tbody>\n",
       "</table>\n",
       "</div>"
      ],
      "text/plain": [
       "               ↓ ОБУЧАЮЩАЯ ВЫБОРКА ↓ (826895, 14)                      \\\n",
       "                                           dtypes   nunique      isna   \n",
       "overall                                   float64       5.0       0.0   \n",
       "verified                                     bool       2.0       0.0   \n",
       "reviewTime                                 object    4580.0       0.0   \n",
       "asin                                       object   41302.0       0.0   \n",
       "reviewerName                               object  101207.0     164.0   \n",
       "reviewText                                 object  686739.0     274.0   \n",
       "summary                                    object  411451.0     166.0   \n",
       "unixReviewTime                              int64    4580.0       0.0   \n",
       "vote                                      float64     311.0  712944.0   \n",
       "style                                      object   25892.0  398698.0   \n",
       "image                                      object    6636.0  819916.0   \n",
       "userid                                      int64  127448.0       0.0   \n",
       "itemid                                      int64   41302.0       0.0   \n",
       "rating                                    float64       2.0       0.0   \n",
       "Id                                            NaN       NaN       NaN   \n",
       "\n",
       "                                                                   \\\n",
       "                                                           loc[0]   \n",
       "overall                                                         5   \n",
       "verified                                                     True   \n",
       "reviewTime                                             10 4, 2016   \n",
       "asin                                                   B01CPNIEQG   \n",
       "reviewerName                                              Heather   \n",
       "reviewText      These are my FAVORITE spices in my collection....   \n",
       "summary                           Must Add to your Spice kitchen!   \n",
       "unixReviewTime                                         1475539200   \n",
       "vote                                                          NaN   \n",
       "style                                                         NaN   \n",
       "image                                                         NaN   \n",
       "userid                                                     102179   \n",
       "itemid                                                      37138   \n",
       "rating                                                          1   \n",
       "Id                                                            NaN   \n",
       "\n",
       "               ↓ ТЕСТОВАЯ ВЫБОРКА ↓ (285965, 11)                      \\\n",
       "                                          dtypes   nunique      isna   \n",
       "overall                                      NaN       NaN       NaN   \n",
       "verified                                    bool       2.0       0.0   \n",
       "reviewTime                                object    4349.0       0.0   \n",
       "asin                                      object   37876.0       0.0   \n",
       "reviewerName                              object   86815.0      47.0   \n",
       "reviewText                                   NaN       NaN       NaN   \n",
       "summary                                      NaN       NaN       NaN   \n",
       "unixReviewTime                             int64    4349.0       0.0   \n",
       "vote                                     float64     198.0  246503.0   \n",
       "style                                     object   18904.0  138285.0   \n",
       "image                                     object    2306.0  283597.0   \n",
       "userid                                     int64  109357.0       0.0   \n",
       "itemid                                     int64   37876.0       0.0   \n",
       "rating                                       NaN       NaN       NaN   \n",
       "Id                                         int64  285965.0       0.0   \n",
       "\n",
       "                            \n",
       "                    loc[0]  \n",
       "overall                NaN  \n",
       "verified              True  \n",
       "reviewTime      10 1, 2016  \n",
       "asin            B001E5E3X0  \n",
       "reviewerName     Rudys Mom  \n",
       "reviewText             NaN  \n",
       "summary                NaN  \n",
       "unixReviewTime  1475280000  \n",
       "vote                   NaN  \n",
       "style                  NaN  \n",
       "image                  NaN  \n",
       "userid               68877  \n",
       "itemid                7506  \n",
       "rating                 NaN  \n",
       "Id                       0  "
      ]
     },
     "execution_count": 79,
     "metadata": {},
     "output_type": "execute_result"
    }
   ],
   "source": [
    "pd.concat([param_data(train), param_data(test)], \n",
    "          axis=1, \n",
    "          keys = [f'↓ ОБУЧАЮЩАЯ ВЫБОРКА ↓ {train.shape}', f'↓ ТЕСТОВАЯ ВЫБОРКА ↓ {test.shape}'],  \n",
    "          sort=False)"
   ]
  },
  {
   "cell_type": "markdown",
   "metadata": {},
   "source": [
    "Описание исходного датасета:\n",
    "\n",
    "    overall - рейтинг, который поставил пользователь (значения от 1 до 5)\n",
    "    verified - был ли отзыв верифицирован (значения True или False)\n",
    "    reviewTime - когда был отзыв написан\n",
    "    asin - предположительно, серийный номер или штрихкод\n",
    "    reviewerName - имя пользователя\n",
    "    reviewText - текст отзыва\n",
    "    summary - сжатый отзыв\n",
    "    unixReviewTime - когда был отзыв написан в формате unix\n",
    "    vote - количество голосований за отзыв (значения - целые числа, представленные в виде строки)\n",
    "    style - метаданные ( значения словари с описанием размера порции и аромата продукта)\n",
    "    image - изображение продукта\n",
    "    userid - id пользователя\n",
    "    itemid - id товара\n",
    "    rating - предположительно, это понравился или не понравился товар, значения (1, если overall>=4 остальное 0)\n",
    "    Id - id для предсказания"
   ]
  },
  {
   "cell_type": "code",
   "execution_count": 80,
   "metadata": {},
   "outputs": [
    {
     "data": {
      "text/html": [
       "<div>\n",
       "<style scoped>\n",
       "    .dataframe tbody tr th:only-of-type {\n",
       "        vertical-align: middle;\n",
       "    }\n",
       "\n",
       "    .dataframe tbody tr th {\n",
       "        vertical-align: top;\n",
       "    }\n",
       "\n",
       "    .dataframe thead th {\n",
       "        text-align: right;\n",
       "    }\n",
       "</style>\n",
       "<table border=\"1\" class=\"dataframe\">\n",
       "  <thead>\n",
       "    <tr style=\"text-align: right;\">\n",
       "      <th></th>\n",
       "      <th>itemid</th>\n",
       "      <th>title</th>\n",
       "      <th>brand</th>\n",
       "      <th>description</th>\n",
       "      <th>main_cat</th>\n",
       "      <th>price</th>\n",
       "    </tr>\n",
       "  </thead>\n",
       "  <tbody>\n",
       "    <tr>\n",
       "      <th>0</th>\n",
       "      <td>1</td>\n",
       "      <td>Lipton Yellow Label Tea (loose tea) - 450g</td>\n",
       "      <td>Lipton</td>\n",
       "      <td>Lipton Yellow Label Tea use only the finest te...</td>\n",
       "      <td>Grocery</td>\n",
       "      <td>$12.46</td>\n",
       "    </tr>\n",
       "    <tr>\n",
       "      <th>1</th>\n",
       "      <td>0</td>\n",
       "      <td>Lipton Yellow Label Finest Blend Tea Bags 100 ...</td>\n",
       "      <td>Lipton</td>\n",
       "      <td>Lipton Yellow Label Teabags uses a new way to ...</td>\n",
       "      <td>Grocery</td>\n",
       "      <td>$12.98</td>\n",
       "    </tr>\n",
       "    <tr>\n",
       "      <th>2</th>\n",
       "      <td>2</td>\n",
       "      <td>Organo Gold Cafe Supreme 100% Certified Ganode...</td>\n",
       "      <td>Organo Gold</td>\n",
       "      <td>20 Sachets\\n\\nEmpty contents into cup\\nPour 8o...</td>\n",
       "      <td>Grocery</td>\n",
       "      <td>$29.90</td>\n",
       "    </tr>\n",
       "    <tr>\n",
       "      <th>3</th>\n",
       "      <td>3</td>\n",
       "      <td>Mae Ploy Green Curry Paste, 14 oz</td>\n",
       "      <td>Mae Ploy</td>\n",
       "      <td>Mae Ploy Thai green curry paste.\\n\\nIngredient...</td>\n",
       "      <td>Grocery</td>\n",
       "      <td>NaN</td>\n",
       "    </tr>\n",
       "    <tr>\n",
       "      <th>4</th>\n",
       "      <td>4</td>\n",
       "      <td>Ateco Food Coloring Kit, 6 colors</td>\n",
       "      <td>Harold Import Company</td>\n",
       "      <td>This set is a great value from one of the grea...</td>\n",
       "      <td>Amazon Home</td>\n",
       "      <td>NaN</td>\n",
       "    </tr>\n",
       "  </tbody>\n",
       "</table>\n",
       "</div>"
      ],
      "text/plain": [
       "   itemid                                              title  \\\n",
       "0       1         Lipton Yellow Label Tea (loose tea) - 450g   \n",
       "1       0  Lipton Yellow Label Finest Blend Tea Bags 100 ...   \n",
       "2       2  Organo Gold Cafe Supreme 100% Certified Ganode...   \n",
       "3       3                  Mae Ploy Green Curry Paste, 14 oz   \n",
       "4       4                  Ateco Food Coloring Kit, 6 colors   \n",
       "\n",
       "                   brand                                        description  \\\n",
       "0                 Lipton  Lipton Yellow Label Tea use only the finest te...   \n",
       "1                 Lipton  Lipton Yellow Label Teabags uses a new way to ...   \n",
       "2            Organo Gold  20 Sachets\\n\\nEmpty contents into cup\\nPour 8o...   \n",
       "3               Mae Ploy  Mae Ploy Thai green curry paste.\\n\\nIngredient...   \n",
       "4  Harold Import Company  This set is a great value from one of the grea...   \n",
       "\n",
       "      main_cat   price  \n",
       "0      Grocery  $12.46  \n",
       "1      Grocery  $12.98  \n",
       "2      Grocery  $29.90  \n",
       "3      Grocery     NaN  \n",
       "4  Amazon Home     NaN  "
      ]
     },
     "execution_count": 80,
     "metadata": {},
     "output_type": "execute_result"
    }
   ],
   "source": [
    "normalized=normalized[['itemid', 'title', 'brand','description','main_cat','price']]\n",
    "normalized.head()"
   ]
  },
  {
   "cell_type": "code",
   "execution_count": 81,
   "metadata": {},
   "outputs": [
    {
     "name": "stdout",
     "output_type": "stream",
     "text": [
      "<class 'pandas.core.frame.DataFrame'>\n",
      "RangeIndex: 42003 entries, 0 to 42002\n",
      "Data columns (total 6 columns):\n",
      " #   Column       Non-Null Count  Dtype \n",
      "---  ------       --------------  ----- \n",
      " 0   itemid       42003 non-null  int64 \n",
      " 1   title        42003 non-null  object\n",
      " 2   brand        41574 non-null  object\n",
      " 3   description  38588 non-null  object\n",
      " 4   main_cat     41920 non-null  object\n",
      " 5   price        25786 non-null  object\n",
      "dtypes: int64(1), object(5)\n",
      "memory usage: 1.9+ MB\n"
     ]
    }
   ],
   "source": [
    "normalized.info()"
   ]
  },
  {
   "cell_type": "markdown",
   "metadata": {},
   "source": [
    "Описание дополнительного датасета normalized, извлеченного из файла meta_Grocery_and_Gourmet_Food.json:\n",
    "\n",
    "    itemid - id товара\n",
    "    title - название товара \n",
    "    brand - изготовитель\n",
    "    description - описание товара\n",
    "    main_cat - главная категория товара\n",
    "    price - цена товара в долларах"
   ]
  },
  {
   "cell_type": "code",
   "execution_count": 82,
   "metadata": {},
   "outputs": [
    {
     "name": "stdout",
     "output_type": "stream",
     "text": [
      "   itemid                category  is_train\n",
      "0       1  Grocery & Gourmet Food      True\n",
      "1       1               Beverages      True\n",
      "2       1     Coffee, Tea & Cocoa      True\n",
      "3       1                     Tea      True\n",
      "4       1                   Black      True\n",
      "<class 'pandas.core.frame.DataFrame'>\n",
      "RangeIndex: 166917 entries, 0 to 166916\n",
      "Data columns (total 3 columns):\n",
      " #   Column    Non-Null Count   Dtype \n",
      "---  ------    --------------   ----- \n",
      " 0   itemid    166917 non-null  int64 \n",
      " 1   category  166917 non-null  object\n",
      " 2   is_train  166917 non-null  bool  \n",
      "dtypes: bool(1), int64(1), object(1)\n",
      "memory usage: 2.7+ MB\n",
      "None\n"
     ]
    }
   ],
   "source": [
    "#Дополнительный датасет category, извлеченный из файла meta_Grocery_and_Gourmet_Food.json:itemid - id товара,\n",
    "#category - категория, к которой товар относится\n",
    "print(category.head())\n",
    "print(category.info())"
   ]
  },
  {
   "cell_type": "code",
   "execution_count": 83,
   "metadata": {},
   "outputs": [
    {
     "data": {
      "text/html": [
       "<div>\n",
       "<style scoped>\n",
       "    .dataframe tbody tr th:only-of-type {\n",
       "        vertical-align: middle;\n",
       "    }\n",
       "\n",
       "    .dataframe tbody tr th {\n",
       "        vertical-align: top;\n",
       "    }\n",
       "\n",
       "    .dataframe thead th {\n",
       "        text-align: right;\n",
       "    }\n",
       "</style>\n",
       "<table border=\"1\" class=\"dataframe\">\n",
       "  <thead>\n",
       "    <tr style=\"text-align: right;\">\n",
       "      <th></th>\n",
       "      <th>itemid</th>\n",
       "      <th>category</th>\n",
       "      <th>is_train</th>\n",
       "    </tr>\n",
       "  </thead>\n",
       "  <tbody>\n",
       "    <tr>\n",
       "      <th>0</th>\n",
       "      <td>1</td>\n",
       "      <td>Grocery &amp; Gourmet Food</td>\n",
       "      <td>True</td>\n",
       "    </tr>\n",
       "    <tr>\n",
       "      <th>1</th>\n",
       "      <td>1</td>\n",
       "      <td>Beverages</td>\n",
       "      <td>True</td>\n",
       "    </tr>\n",
       "    <tr>\n",
       "      <th>2</th>\n",
       "      <td>1</td>\n",
       "      <td>Coffee, Tea &amp; Cocoa</td>\n",
       "      <td>True</td>\n",
       "    </tr>\n",
       "    <tr>\n",
       "      <th>3</th>\n",
       "      <td>1</td>\n",
       "      <td>Tea</td>\n",
       "      <td>True</td>\n",
       "    </tr>\n",
       "    <tr>\n",
       "      <th>4</th>\n",
       "      <td>1</td>\n",
       "      <td>Black</td>\n",
       "      <td>True</td>\n",
       "    </tr>\n",
       "    <tr>\n",
       "      <th>...</th>\n",
       "      <td>...</td>\n",
       "      <td>...</td>\n",
       "      <td>...</td>\n",
       "    </tr>\n",
       "    <tr>\n",
       "      <th>166912</th>\n",
       "      <td>38322</td>\n",
       "      <td>Cocoa</td>\n",
       "      <td>True</td>\n",
       "    </tr>\n",
       "    <tr>\n",
       "      <th>166913</th>\n",
       "      <td>38323</td>\n",
       "      <td>Grocery &amp; Gourmet Food</td>\n",
       "      <td>True</td>\n",
       "    </tr>\n",
       "    <tr>\n",
       "      <th>166914</th>\n",
       "      <td>38323</td>\n",
       "      <td>Condiments &amp; Salad Dressings</td>\n",
       "      <td>True</td>\n",
       "    </tr>\n",
       "    <tr>\n",
       "      <th>166915</th>\n",
       "      <td>38323</td>\n",
       "      <td>Salad Dressings</td>\n",
       "      <td>True</td>\n",
       "    </tr>\n",
       "    <tr>\n",
       "      <th>166916</th>\n",
       "      <td>38323</td>\n",
       "      <td>Ranch</td>\n",
       "      <td>True</td>\n",
       "    </tr>\n",
       "  </tbody>\n",
       "</table>\n",
       "<p>166917 rows × 3 columns</p>\n",
       "</div>"
      ],
      "text/plain": [
       "        itemid                      category  is_train\n",
       "0            1        Grocery & Gourmet Food      True\n",
       "1            1                     Beverages      True\n",
       "2            1           Coffee, Tea & Cocoa      True\n",
       "3            1                           Tea      True\n",
       "4            1                         Black      True\n",
       "...        ...                           ...       ...\n",
       "166912   38322                         Cocoa      True\n",
       "166913   38323        Grocery & Gourmet Food      True\n",
       "166914   38323  Condiments & Salad Dressings      True\n",
       "166915   38323               Salad Dressings      True\n",
       "166916   38323                         Ranch      True\n",
       "\n",
       "[166917 rows x 3 columns]"
      ]
     },
     "execution_count": 83,
     "metadata": {},
     "output_type": "execute_result"
    }
   ],
   "source": [
    "category"
   ]
  },
  {
   "cell_type": "code",
   "execution_count": 11,
   "metadata": {},
   "outputs": [
    {
     "name": "stdout",
     "output_type": "stream",
     "text": [
      "   itemid  also_view_itemid  is_train\n",
      "0       1              9433      True\n",
      "1       1              2990      True\n",
      "2       1             10750      True\n",
      "3       1             19204      True\n",
      "4       1              2991      True\n",
      "<class 'pandas.core.frame.DataFrame'>\n",
      "RangeIndex: 178606 entries, 0 to 178605\n",
      "Data columns (total 3 columns):\n",
      " #   Column            Non-Null Count   Dtype\n",
      "---  ------            --------------   -----\n",
      " 0   itemid            178606 non-null  int64\n",
      " 1   also_view_itemid  178606 non-null  int64\n",
      " 2   is_train          178606 non-null  bool \n",
      "dtypes: bool(1), int64(2)\n",
      "memory usage: 2.9 MB\n",
      "None\n"
     ]
    }
   ],
   "source": [
    "#Дополнительный датасет also_view, извлеченный из файла meta_Grocery_and_Gourmet_Food.json:itemid - id товара,\n",
    "#also_view_itemid - id товара, просмотренного вместе с основным\n",
    "print(also_view.head())\n",
    "print(also_view.info())"
   ]
  },
  {
   "cell_type": "markdown",
   "metadata": {},
   "source": [
    "## Анализ полей исходного датасета"
   ]
  },
  {
   "cell_type": "code",
   "execution_count": 12,
   "metadata": {},
   "outputs": [],
   "source": [
    "df = train.copy()"
   ]
  },
  {
   "cell_type": "markdown",
   "metadata": {},
   "source": [
    "Отберем поля "
   ]
  },
  {
   "cell_type": "code",
   "execution_count": 13,
   "metadata": {},
   "outputs": [],
   "source": [
    "selected_fields = set()"
   ]
  },
  {
   "cell_type": "markdown",
   "metadata": {},
   "source": [
    "для обучающего датасета, поочередно рассматривая колонки исходного датасета:"
   ]
  },
  {
   "cell_type": "markdown",
   "metadata": {},
   "source": [
    "### overall - рейтинг, который поставил пользователь"
   ]
  },
  {
   "cell_type": "code",
   "execution_count": 14,
   "metadata": {},
   "outputs": [
    {
     "name": "stdout",
     "output_type": "stream",
     "text": [
      "Колонка \"overall\":\n",
      "------\n",
      "na: 0\n",
      "уникальных значений: 5\n",
      "------\n",
      "5.0    592278\n",
      "4.0    109334\n",
      "3.0     58488\n",
      "1.0     36159\n",
      "2.0     30636\n",
      "Name: overall, dtype: int64\n"
     ]
    }
   ],
   "source": [
    "field_name = 'overall'\n",
    "describe(df, field_name)"
   ]
  },
  {
   "cell_type": "code",
   "execution_count": 15,
   "metadata": {
    "scrolled": false
   },
   "outputs": [
    {
     "name": "stdout",
     "output_type": "stream",
     "text": [
      "Колонка \"rating_check\":\n",
      "------\n",
      "na: 0\n",
      "уникальных значений: 2\n",
      "------\n",
      "1.0    701612\n",
      "0.0    125283\n",
      "Name: rating_check, dtype: int64\n",
      "Колонка \"rating\":\n",
      "------\n",
      "na: 0\n",
      "уникальных значений: 2\n",
      "------\n",
      "1.0    701612\n",
      "0.0    125283\n",
      "Name: rating, dtype: int64\n"
     ]
    }
   ],
   "source": [
    "df['rating_check'] = train['overall'].apply(lambda x: 1.0 if x >= 4 else 0.0)\n",
    "describe(df, 'rating_check')\n",
    "describe(df, 'rating')"
   ]
  },
  {
   "cell_type": "markdown",
   "metadata": {},
   "source": [
    "Значение этого поля отражено в колонке `rating`, не включаем его в список далее рассматриваемых"
   ]
  },
  {
   "cell_type": "markdown",
   "metadata": {},
   "source": [
    "### verified"
   ]
  },
  {
   "cell_type": "code",
   "execution_count": 16,
   "metadata": {
    "scrolled": false
   },
   "outputs": [
    {
     "name": "stdout",
     "output_type": "stream",
     "text": [
      "Колонка \"verified\":\n",
      "------\n",
      "na: 0\n",
      "уникальных значений: 2\n",
      "------\n",
      "True     718164\n",
      "False    108731\n",
      "Name: verified, dtype: int64\n"
     ]
    }
   ],
   "source": [
    "field_name = 'verified'\n",
    "describe(df, field_name)"
   ]
  },
  {
   "cell_type": "markdown",
   "metadata": {},
   "source": [
    "#### TODO: Надо бы drop'нуть все неверифицированные отзывы"
   ]
  },
  {
   "cell_type": "markdown",
   "metadata": {},
   "source": [
    "### asin"
   ]
  },
  {
   "cell_type": "code",
   "execution_count": 17,
   "metadata": {
    "scrolled": false
   },
   "outputs": [
    {
     "name": "stdout",
     "output_type": "stream",
     "text": [
      "Колонка \"asin\":\n",
      "------\n",
      "na: 0\n",
      "уникальных значений: 41302\n",
      "------\n",
      "B00BUKL666    5430\n",
      "B00D3M2QP4    4733\n",
      "B008QMX2SG    4611\n",
      "B00R7PWK7W    2449\n",
      "B000F4DKAI    2166\n",
      "              ... \n",
      "B00DJLKL0Q       1\n",
      "B001650VTI       1\n",
      "B0010AR1C4       1\n",
      "B000XK71JK       1\n",
      "B00DN3T5BG       1\n",
      "Name: asin, Length: 41302, dtype: int64\n"
     ]
    }
   ],
   "source": [
    "field_name = 'asin'\n",
    "describe(df, field_name)"
   ]
  },
  {
   "cell_type": "code",
   "execution_count": 18,
   "metadata": {},
   "outputs": [
    {
     "name": "stdout",
     "output_type": "stream",
     "text": [
      "Колонка \"itemid\":\n",
      "------\n",
      "na: 0\n",
      "уникальных значений: 41302\n",
      "------\n",
      "22208    5430\n",
      "23540    4733\n",
      "24556    4611\n",
      "32046    2449\n",
      "1919     2166\n",
      "         ... \n",
      "38777       1\n",
      "32616       1\n",
      "5396        1\n",
      "25613       1\n",
      "38602       1\n",
      "Name: itemid, Length: 41302, dtype: int64\n"
     ]
    }
   ],
   "source": [
    "describe(df, 'itemid')"
   ]
  },
  {
   "cell_type": "markdown",
   "metadata": {},
   "source": [
    "Видно, что рассматриваемая колонка и `itemid`, это про одно и тоже - код товара, поэтому рассматриваемую колонку игонорируем"
   ]
  },
  {
   "cell_type": "markdown",
   "metadata": {},
   "source": [
    "### reviewerName"
   ]
  },
  {
   "cell_type": "code",
   "execution_count": 19,
   "metadata": {
    "scrolled": false
   },
   "outputs": [
    {
     "name": "stdout",
     "output_type": "stream",
     "text": [
      "Колонка \"reviewerName\":\n",
      "------\n",
      "na: 164\n",
      "уникальных значений: 101208\n",
      "------\n",
      "Amazon Customer      30612\n",
      "Kindle Customer       6012\n",
      "Linda                  713\n",
      "John                   695\n",
      "David                  597\n",
      "                     ...  \n",
      "Nick..                   1\n",
      "Your Average Joe         1\n",
      "Crystal Perritano        1\n",
      "Jilana Elashvili         1\n",
      "Slingo                   1\n",
      "Name: reviewerName, Length: 101207, dtype: int64\n"
     ]
    }
   ],
   "source": [
    "field_name = 'reviewerName'\n",
    "describe(df, field_name)"
   ]
  },
  {
   "cell_type": "code",
   "execution_count": 20,
   "metadata": {},
   "outputs": [
    {
     "name": "stdout",
     "output_type": "stream",
     "text": [
      "Колонка \"userid\":\n",
      "------\n",
      "na: 0\n",
      "уникальных значений: 127448\n",
      "------\n",
      "842       418\n",
      "17987     311\n",
      "355       294\n",
      "2024      288\n",
      "2809      263\n",
      "         ... \n",
      "30644       1\n",
      "64828       1\n",
      "104926      1\n",
      "63804       1\n",
      "38947       1\n",
      "Name: userid, Length: 127448, dtype: int64\n"
     ]
    }
   ],
   "source": [
    "describe(df, 'userid')"
   ]
  },
  {
   "cell_type": "markdown",
   "metadata": {},
   "source": [
    "Поле `userid` выглядит точнее, чем рассматриваемая колонка, поэтому ее тоже игнорируем"
   ]
  },
  {
   "cell_type": "markdown",
   "metadata": {},
   "source": [
    "### reviewText"
   ]
  },
  {
   "cell_type": "code",
   "execution_count": 21,
   "metadata": {
    "scrolled": false
   },
   "outputs": [
    {
     "name": "stdout",
     "output_type": "stream",
     "text": [
      "Колонка \"reviewText\":\n",
      "------\n",
      "na: 274\n",
      "уникальных значений: 686740\n",
      "------\n",
      "good                                                                                                                                                                                                                                                                                                    3019\n",
      "great                                                                                                                                                                                                                                                                                                   2525\n",
      "Great                                                                                                                                                                                                                                                                                                   2002\n",
      "Good                                                                                                                                                                                                                                                                                                    1977\n",
      "ok                                                                                                                                                                                                                                                                                                      1278\n",
      "                                                                                                                                                                                                                                                                                                        ... \n",
      "These are great pumpkin seeds.  Yes, you are paying a bit more but they are organic.  I liked these because they are not overly salted like some that you find.  These had just enough salt.  I have ordered these more then once.                                                                         1\n",
      "If you are a chocolate lover like I am, you're gonna' love these. I would recommend these chocolates to any chocolate lover, the beans were fresh and the chocolate was absolutely delicious!!!                                                                                                            1\n",
      "Yummy. I can't have regular OJ but this is just fine.                                                                                                                                                                                                                                                      1\n",
      "Good but Folgers version is significantly better tastewise and so far amazon doesn't carry it. Good price though, and I like the free shipping--which I'm not certain will last. Having a huge supply of these on hand makes it's hard to make coffee any other way though!! This is just sooo easy!       1\n",
      "tasty pasta!                                                                                                                                                                                                                                                                                               1\n",
      "Name: reviewText, Length: 686739, dtype: int64\n"
     ]
    }
   ],
   "source": [
    "field_name = 'reviewText'\n",
    "describe(df, field_name)"
   ]
  },
  {
   "cell_type": "markdown",
   "metadata": {},
   "source": [
    "Эту колонку оставляем для дальнейшего рассмотрения:"
   ]
  },
  {
   "cell_type": "code",
   "execution_count": 22,
   "metadata": {},
   "outputs": [],
   "source": [
    "selected_fields.add(field_name)"
   ]
  },
  {
   "cell_type": "markdown",
   "metadata": {},
   "source": [
    "### summary"
   ]
  },
  {
   "cell_type": "code",
   "execution_count": 23,
   "metadata": {
    "scrolled": true
   },
   "outputs": [
    {
     "name": "stdout",
     "output_type": "stream",
     "text": [
      "Колонка \"summary\":\n",
      "------\n",
      "na: 166\n",
      "уникальных значений: 411452\n",
      "------\n",
      "Five Stars                                       167416\n",
      "Four Stars                                        26010\n",
      "Three Stars                                       11682\n",
      "One Star                                           5206\n",
      "Two Stars                                          4824\n",
      "                                                  ...  \n",
      "A VERY  GOOD FOR YOU TEA!                             1\n",
      "Xlear Spry gum blister tray                           1\n",
      "No luck with these kefir grains - just curd!          1\n",
      "NIDO Instant Full Cream Milk Powder, 900g             1\n",
      "Best Jerky out there - try it for a big smile         1\n",
      "Name: summary, Length: 411451, dtype: int64\n"
     ]
    }
   ],
   "source": [
    "field_name = 'summary'\n",
    "describe(df, field_name)"
   ]
  },
  {
   "cell_type": "markdown",
   "metadata": {},
   "source": [
    "Эту колонку оставляем для дальнейшего рассмотрения:"
   ]
  },
  {
   "cell_type": "code",
   "execution_count": 24,
   "metadata": {},
   "outputs": [],
   "source": [
    "selected_fields.add(field_name)"
   ]
  },
  {
   "cell_type": "markdown",
   "metadata": {},
   "source": [
    "### unixReviewTime"
   ]
  },
  {
   "cell_type": "code",
   "execution_count": 25,
   "metadata": {
    "scrolled": false
   },
   "outputs": [
    {
     "name": "stdout",
     "output_type": "stream",
     "text": [
      "Колонка \"unixReviewTime\":\n",
      "------\n",
      "na: 0\n",
      "уникальных значений: 4580\n",
      "------\n",
      "1456790400    909\n",
      "1468454400    858\n",
      "1433289600    769\n",
      "1453248000    764\n",
      "1455926400    753\n",
      "             ... \n",
      "1105142400      1\n",
      "1131062400      1\n",
      "1161993600      1\n",
      "1142467200      1\n",
      "1177113600      1\n",
      "Name: unixReviewTime, Length: 4580, dtype: int64\n"
     ]
    }
   ],
   "source": [
    "field_name = 'unixReviewTime'\n",
    "describe(df, field_name)"
   ]
  },
  {
   "cell_type": "markdown",
   "metadata": {},
   "source": [
    "Эту колонку оставляем для дальнейшего рассмотрения:"
   ]
  },
  {
   "cell_type": "code",
   "execution_count": 26,
   "metadata": {},
   "outputs": [],
   "source": [
    "selected_fields.add(field_name)"
   ]
  },
  {
   "cell_type": "markdown",
   "metadata": {},
   "source": [
    "### reviewTime"
   ]
  },
  {
   "cell_type": "code",
   "execution_count": 27,
   "metadata": {
    "scrolled": false
   },
   "outputs": [
    {
     "name": "stdout",
     "output_type": "stream",
     "text": [
      "Колонка \"reviewTime\":\n",
      "------\n",
      "na: 0\n",
      "уникальных значений: 4580\n",
      "------\n",
      "03 1, 2016     909\n",
      "07 14, 2016    858\n",
      "06 3, 2015     769\n",
      "01 20, 2016    764\n",
      "02 20, 2016    753\n",
      "              ... \n",
      "06 29, 2006      1\n",
      "08 4, 2005       1\n",
      "05 7, 2006       1\n",
      "05 27, 2007      1\n",
      "06 4, 2006       1\n",
      "Name: reviewTime, Length: 4580, dtype: int64\n"
     ]
    }
   ],
   "source": [
    "field_name = 'reviewTime'\n",
    "describe(df, field_name)"
   ]
  },
  {
   "cell_type": "markdown",
   "metadata": {},
   "source": [
    "Эта колонка про то же самое, что и `unixReviewTime`, только в другом формате. Игнорируем"
   ]
  },
  {
   "cell_type": "markdown",
   "metadata": {},
   "source": [
    "### vote"
   ]
  },
  {
   "cell_type": "code",
   "execution_count": 28,
   "metadata": {
    "scrolled": true
   },
   "outputs": [
    {
     "name": "stdout",
     "output_type": "stream",
     "text": [
      "Колонка \"vote\":\n",
      "------\n",
      "na: 712944\n",
      "уникальных значений: 312\n",
      "------\n",
      "2.0       42820\n",
      "3.0       21447\n",
      "4.0       12337\n",
      "5.0        7932\n",
      "6.0        5480\n",
      "          ...  \n",
      "1060.0        1\n",
      "192.0         1\n",
      "208.0         1\n",
      "221.0         1\n",
      "680.0         1\n",
      "Name: vote, Length: 311, dtype: int64\n"
     ]
    }
   ],
   "source": [
    "field_name = 'vote'\n",
    "describe(df, field_name)"
   ]
  },
  {
   "cell_type": "markdown",
   "metadata": {},
   "source": [
    "Эту колонку оставляем для дальнейшего рассмотрения:"
   ]
  },
  {
   "cell_type": "code",
   "execution_count": 29,
   "metadata": {},
   "outputs": [],
   "source": [
    "selected_fields.add(field_name)"
   ]
  },
  {
   "cell_type": "markdown",
   "metadata": {},
   "source": [
    "### style"
   ]
  },
  {
   "cell_type": "code",
   "execution_count": 30,
   "metadata": {
    "scrolled": true
   },
   "outputs": [
    {
     "name": "stdout",
     "output_type": "stream",
     "text": [
      "Колонка \"style\":\n",
      "------\n",
      "na: 398698\n",
      "уникальных значений: 25893\n",
      "------\n",
      "{'Size:': ' Pack of 1'}                                                         4549\n",
      "{'Package Quantity:': ' 1'}                                                     4461\n",
      "{'Package Type:': ' Standard Packaging'}                                        3860\n",
      "{'Size:': ' 1 Pack'}                                                            3688\n",
      "{'Size:': ' 24 Count'}                                                          3615\n",
      "                                                                                ... \n",
      "{'Size:': ' 1 Lb Coarse Bag'}                                                      1\n",
      "{'Size:': ' 10.5 Ounce (Pack of 12)', 'Flavor:': ' Chocolate Peanut Butter'}       1\n",
      "{'Size:': ' 4 Ounce', 'Flavor:': ' Lady Hannahs Whole Fruit Herbal Tea'}           1\n",
      "{'Style:': ' Garden Vegetable'}                                                    1\n",
      "{'Size:': ' 5 Pound', 'Flavor:': ' Whole Bean Restaurant and Cafe'}                1\n",
      "Name: style, Length: 25892, dtype: int64\n"
     ]
    }
   ],
   "source": [
    "field_name = 'style'\n",
    "describe(df, field_name)"
   ]
  },
  {
   "cell_type": "markdown",
   "metadata": {},
   "source": [
    "Эта колонка содержит очень много пропущенных значений, поэтому в дальнейшем не рассматриваем."
   ]
  },
  {
   "cell_type": "markdown",
   "metadata": {},
   "source": [
    "### image"
   ]
  },
  {
   "cell_type": "code",
   "execution_count": 31,
   "metadata": {
    "scrolled": false
   },
   "outputs": [
    {
     "name": "stdout",
     "output_type": "stream",
     "text": [
      "Колонка \"image\":\n",
      "------\n",
      "na: 819916\n",
      "уникальных значений: 6637\n",
      "------\n",
      "['https://images-na.ssl-images-amazon.com/images/I/712zJIOTV5L._SY88.jpg']                                                                                                                                                                                                                                                                                                                                                                                      6\n",
      "['https://images-na.ssl-images-amazon.com/images/I/71+Z1TA3eyL._SY88.jpg']                                                                                                                                                                                                                                                                                                                                                                                      6\n",
      "['https://images-na.ssl-images-amazon.com/images/I/81kah7EsJtL._SY88.jpg', 'https://images-na.ssl-images-amazon.com/images/I/81YnU7oiOIL._SY88.jpg', 'https://images-na.ssl-images-amazon.com/images/I/81j+y7+3NxL._SY88.jpg', 'https://images-na.ssl-images-amazon.com/images/I/81RV96qYZvL._SY88.jpg']                                                                                                                                                        5\n",
      "['https://images-na.ssl-images-amazon.com/images/I/81ZkT-0FJpL._SY88.jpg']                                                                                                                                                                                                                                                                                                                                                                                      5\n",
      "['https://images-na.ssl-images-amazon.com/images/I/81h8Zc+1rzL._SY88.jpg']                                                                                                                                                                                                                                                                                                                                                                                      5\n",
      "                                                                                                                                                                                                                                                                                                                                                                                                                                                               ..\n",
      "['https://images-na.ssl-images-amazon.com/images/I/71CjZQj0FIL._SY88.jpg', 'https://images-na.ssl-images-amazon.com/images/I/71h0yIg3JOL._SY88.jpg']                                                                                                                                                                                                                                                                                                            1\n",
      "['https://images-na.ssl-images-amazon.com/images/I/714TxygkwmL._SY88.jpg', 'https://images-na.ssl-images-amazon.com/images/I/81CuTXwB6+L._SY88.jpg']                                                                                                                                                                                                                                                                                                            1\n",
      "['https://images-na.ssl-images-amazon.com/images/I/718442OQy7L._SY88.jpg', 'https://images-na.ssl-images-amazon.com/images/I/71OxocCZgPL._SY88.jpg', 'https://images-na.ssl-images-amazon.com/images/I/71T5OR+uukL._SY88.jpg']                                                                                                                                                                                                                                  1\n",
      "['https://images-na.ssl-images-amazon.com/images/I/51AZrN66WCL._SY88.jpg']                                                                                                                                                                                                                                                                                                                                                                                      1\n",
      "['https://images-na.ssl-images-amazon.com/images/I/71r+nw6fRZL._SY88.jpg', 'https://images-na.ssl-images-amazon.com/images/I/71-jNi8D92L._SY88.jpg', 'https://images-na.ssl-images-amazon.com/images/I/718YZPZexbL._SY88.jpg', 'https://images-na.ssl-images-amazon.com/images/I/71d8eKjxBdL._SY88.jpg', 'https://images-na.ssl-images-amazon.com/images/I/71apOfN3GUL._SY88.jpg', 'https://images-na.ssl-images-amazon.com/images/I/71g+cutUgXL._SY88.jpg']    1\n",
      "Name: image, Length: 6636, dtype: int64\n"
     ]
    }
   ],
   "source": [
    "field_name = 'image'\n",
    "describe(df, field_name)"
   ]
  },
  {
   "cell_type": "markdown",
   "metadata": {},
   "source": [
    "Эта колонка содержит очень много пропущенных значений, поэтому в дальнейшем не рассматриваем."
   ]
  },
  {
   "cell_type": "markdown",
   "metadata": {},
   "source": [
    "### userid, itemid, rating"
   ]
  },
  {
   "cell_type": "code",
   "execution_count": 32,
   "metadata": {},
   "outputs": [
    {
     "name": "stdout",
     "output_type": "stream",
     "text": [
      "max: 127495, unique: 127448\n"
     ]
    }
   ],
   "source": [
    "print(f\"max: {train.userid.max()}, unique: {len(train.userid.unique())}\")"
   ]
  },
  {
   "cell_type": "code",
   "execution_count": 33,
   "metadata": {},
   "outputs": [
    {
     "name": "stdout",
     "output_type": "stream",
     "text": [
      "max: 41319, unique: 37876\n"
     ]
    }
   ],
   "source": [
    "print(f\"max: {test.itemid.max()}, unique: {len(test.itemid.unique())}\")"
   ]
  },
  {
   "cell_type": "markdown",
   "metadata": {},
   "source": [
    "Эти поля безусловно рассматриваем:"
   ]
  },
  {
   "cell_type": "code",
   "execution_count": 34,
   "metadata": {},
   "outputs": [],
   "source": [
    "for field_name in ['userid', 'itemid', 'rating']:\n",
    "    selected_fields.add(field_name)"
   ]
  },
  {
   "cell_type": "markdown",
   "metadata": {},
   "source": [
    "# Шаг 2. Формируем данные для построения модели."
   ]
  },
  {
   "cell_type": "raw",
   "metadata": {},
   "source": [
    "Данные для обучения модели:\n",
    "   ratings_coo - матрица взаимодействия пользователей с товаром,\n",
    "   item_features - матрица признаков товаров"
   ]
  },
  {
   "cell_type": "code",
   "execution_count": 35,
   "metadata": {},
   "outputs": [
    {
     "name": "stdout",
     "output_type": "stream",
     "text": [
      "<class 'pandas.core.frame.DataFrame'>\n",
      "Int64Index: 718164 entries, 0 to 826894\n",
      "Data columns (total 15 columns):\n",
      " #   Column          Non-Null Count   Dtype  \n",
      "---  ------          --------------   -----  \n",
      " 0   overall         718164 non-null  float64\n",
      " 1   verified        718164 non-null  bool   \n",
      " 2   reviewTime      718164 non-null  object \n",
      " 3   asin            718164 non-null  object \n",
      " 4   reviewerName    718024 non-null  object \n",
      " 5   reviewText      717907 non-null  object \n",
      " 6   summary         718008 non-null  object \n",
      " 7   unixReviewTime  718164 non-null  int64  \n",
      " 8   vote            93604 non-null   float64\n",
      " 9   style           370202 non-null  object \n",
      " 10  image           4527 non-null    object \n",
      " 11  userid          718164 non-null  int64  \n",
      " 12  itemid          718164 non-null  int64  \n",
      " 13  rating          718164 non-null  float64\n",
      " 14  rating_check    718164 non-null  float64\n",
      "dtypes: bool(1), float64(4), int64(3), object(7)\n",
      "memory usage: 82.9+ MB\n"
     ]
    }
   ],
   "source": [
    "sdf = df[df.verified == True] # [list(selected_fields)]\n",
    "sdf.info()"
   ]
  },
  {
   "cell_type": "code",
   "execution_count": 36,
   "metadata": {},
   "outputs": [
    {
     "name": "stdout",
     "output_type": "stream",
     "text": [
      "<class 'pandas.core.frame.DataFrame'>\n",
      "RangeIndex: 826895 entries, 0 to 826894\n",
      "Data columns (total 14 columns):\n",
      " #   Column          Non-Null Count   Dtype  \n",
      "---  ------          --------------   -----  \n",
      " 0   overall         826895 non-null  float64\n",
      " 1   verified        826895 non-null  bool   \n",
      " 2   reviewTime      826895 non-null  object \n",
      " 3   asin            826895 non-null  object \n",
      " 4   reviewerName    826731 non-null  object \n",
      " 5   reviewText      826621 non-null  object \n",
      " 6   summary         826729 non-null  object \n",
      " 7   unixReviewTime  826895 non-null  int64  \n",
      " 8   vote            113951 non-null  float64\n",
      " 9   style           428197 non-null  object \n",
      " 10  image           6979 non-null    object \n",
      " 11  userid          826895 non-null  int64  \n",
      " 12  itemid          826895 non-null  int64  \n",
      " 13  rating          826895 non-null  float64\n",
      "dtypes: bool(1), float64(3), int64(3), object(7)\n",
      "memory usage: 82.8+ MB\n",
      "None\n",
      "<class 'pandas.core.frame.DataFrame'>\n",
      "Int64Index: 718164 entries, 0 to 826894\n",
      "Data columns (total 15 columns):\n",
      " #   Column          Non-Null Count   Dtype  \n",
      "---  ------          --------------   -----  \n",
      " 0   overall         718164 non-null  float64\n",
      " 1   verified        718164 non-null  bool   \n",
      " 2   reviewTime      718164 non-null  object \n",
      " 3   asin            718164 non-null  object \n",
      " 4   reviewerName    718024 non-null  object \n",
      " 5   reviewText      717907 non-null  object \n",
      " 6   summary         718008 non-null  object \n",
      " 7   unixReviewTime  718164 non-null  int64  \n",
      " 8   vote            93604 non-null   float64\n",
      " 9   style           370202 non-null  object \n",
      " 10  image           4527 non-null    object \n",
      " 11  userid          718164 non-null  int64  \n",
      " 12  itemid          718164 non-null  int64  \n",
      " 13  rating          718164 non-null  float64\n",
      " 14  rating_check    718164 non-null  float64\n",
      "dtypes: bool(1), float64(4), int64(3), object(7)\n",
      "memory usage: 82.9+ MB\n",
      "None\n"
     ]
    }
   ],
   "source": [
    "print(train.info())\n",
    "print(sdf.info())"
   ]
  },
  {
   "cell_type": "code",
   "execution_count": 37,
   "metadata": {},
   "outputs": [],
   "source": [
    "train_data, test_data = train_test_split(train,random_state=32, shuffle=True)"
   ]
  },
  {
   "cell_type": "code",
   "execution_count": 38,
   "metadata": {},
   "outputs": [
    {
     "name": "stdout",
     "output_type": "stream",
     "text": [
      "Колонка \"rating\":\n",
      "------\n",
      "na: 0\n",
      "уникальных значений: 2\n",
      "------\n",
      "1.0    526498\n",
      "0.0     93673\n",
      "Name: rating, dtype: int64\n"
     ]
    }
   ],
   "source": [
    "describe(train_data, 'rating')"
   ]
  },
  {
   "cell_type": "code",
   "execution_count": 39,
   "metadata": {},
   "outputs": [],
   "source": [
    "# построим матрицу, где: \n",
    "    # - строкам будут соответствовать пользователи \n",
    "    # - столбцам — товары\n",
    "    # - на пересечении пользователя и товара - количественная оценка степени их взаимодействия, если таковое имело место.\n",
    "ratings_coo = sparse.coo_matrix((train_data['rating'].astype(int),\n",
    "                                 (train_data['userid'],\n",
    "                                 train_data['itemid'])))"
   ]
  },
  {
   "cell_type": "code",
   "execution_count": 40,
   "metadata": {},
   "outputs": [
    {
     "name": "stdout",
     "output_type": "stream",
     "text": [
      "206724\n",
      "206724\n"
     ]
    }
   ],
   "source": [
    "print(len(test_data.userid.values))\n",
    "print(len(test_data.itemid.values))"
   ]
  },
  {
   "cell_type": "code",
   "execution_count": 41,
   "metadata": {},
   "outputs": [
    {
     "data": {
      "text/plain": [
       "(127496, 41320)"
      ]
     },
     "execution_count": 41,
     "metadata": {},
     "output_type": "execute_result"
    }
   ],
   "source": [
    "ratings_coo.shape"
   ]
  },
  {
   "cell_type": "markdown",
   "metadata": {},
   "source": [
    "## item_features"
   ]
  },
  {
   "cell_type": "code",
   "execution_count": 42,
   "metadata": {},
   "outputs": [],
   "source": [
    "cat=train.merge(normalized, on=['itemid'],how='left').drop_duplicates().reset_index(drop = True)"
   ]
  },
  {
   "cell_type": "code",
   "execution_count": 85,
   "metadata": {},
   "outputs": [],
   "source": [
    "cat.main_cat=cat.main_cat.fillna('Other')"
   ]
  },
  {
   "cell_type": "code",
   "execution_count": 45,
   "metadata": {},
   "outputs": [
    {
     "name": "stdout",
     "output_type": "stream",
     "text": [
      "main_cat:Grocery\n",
      "main_cat:Health & Personal Care\n",
      "main_cat:Office Products\n",
      "main_cat:Sports & Outdoors\n",
      "main_cat:Amazon Home\n",
      "main_cat:Toys & Games\n",
      "main_cat:Other\n",
      "main_cat:Industrial & Scientific\n",
      "main_cat:All Beauty\n",
      "main_cat:Tools & Home Improvement\n",
      "main_cat:Baby\n",
      "main_cat:Pet Supplies\n",
      "main_cat:Home Audio & Theater\n",
      "main_cat:Arts, Crafts & Sewing\n",
      "main_cat:Camera & Photo\n",
      "main_cat:Cell Phones & Accessories\n",
      "main_cat:Software\n",
      "main_cat:Musical Instruments\n"
     ]
    }
   ],
   "source": [
    "item_f = []\n",
    "col = []\n",
    "unique_f1 = []\n",
    "for column in cat[['main_cat']]:\n",
    "    col += [column]*len(cat[column].unique())\n",
    "    unique_f1 += list(cat[column].unique())\n",
    "for x,y in zip(col, unique_f1):\n",
    "    res = str(x)+ \":\" +str(y)\n",
    "    item_f.append(res)\n",
    "    print(res)"
   ]
  },
  {
   "cell_type": "code",
   "execution_count": 46,
   "metadata": {},
   "outputs": [],
   "source": [
    "from lightfm.data import Dataset\n",
    "# we call fit to supply userid, item id and user/item features\n",
    "dataset1 = Dataset()\n",
    "dataset1.fit(\n",
    "        df['userid'].unique(), # all the users\n",
    "        df['itemid'].unique(), # all the items\n",
    "        item_features = item_f\n",
    ")"
   ]
  },
  {
   "cell_type": "code",
   "execution_count": 47,
   "metadata": {},
   "outputs": [
    {
     "name": "stdout",
     "output_type": "stream",
     "text": [
      "['main_cat:']\n"
     ]
    }
   ],
   "source": [
    "ll = []\n",
    "for column in cat[['main_cat']]:\n",
    "    ll.append(column + ':')\n",
    "print(ll)"
   ]
  },
  {
   "cell_type": "code",
   "execution_count": 48,
   "metadata": {},
   "outputs": [],
   "source": [
    "def feature_colon_value(my_list):\n",
    "    \"\"\"\n",
    "    Takes as input a list and prepends the columns names to respective values in the list.\n",
    "    For example: if my_list = [1,1,0,'del'],\n",
    "    resultant output = ['f1:1', 'f2:1', 'f3:0', 'loc:del']\n",
    "\n",
    "    \"\"\"\n",
    "    result = []\n",
    "    aa = my_list\n",
    "    for x,y in zip(ll,aa):\n",
    "        res = str(x) +\"\"+ str(y)\n",
    "        result.append(res)\n",
    "    return result"
   ]
  },
  {
   "cell_type": "code",
   "execution_count": 49,
   "metadata": {},
   "outputs": [
    {
     "name": "stdout",
     "output_type": "stream",
     "text": [
      "Final output: [['main_cat:Grocery'], ['main_cat:Grocery'], ['main_cat:Grocery'], ['main_cat:Grocery'], ['main_cat:Grocery']]\n"
     ]
    }
   ],
   "source": [
    "ad_subset = cat[['main_cat']]\n",
    "ad_list = [x.tolist() for x in ad_subset.values]\n",
    "item_feature_list = []\n",
    "for item in ad_list:\n",
    "    item_feature_list.append(feature_colon_value(item))\n",
    "print(f'Final output: {item_feature_list[0:5]}')"
   ]
  },
  {
   "cell_type": "code",
   "execution_count": 50,
   "metadata": {},
   "outputs": [
    {
     "data": {
      "text/plain": [
       "[(37138, ['main_cat:Grocery']),\n",
       " (17322, ['main_cat:Grocery']),\n",
       " (5600, ['main_cat:Grocery']),\n",
       " (30249, ['main_cat:Grocery']),\n",
       " (4349, ['main_cat:Grocery'])]"
      ]
     },
     "execution_count": 50,
     "metadata": {},
     "output_type": "execute_result"
    }
   ],
   "source": [
    "item_tuple = list(zip(cat.itemid, item_feature_list))\n",
    "item_tuple[0:5]"
   ]
  },
  {
   "cell_type": "code",
   "execution_count": 51,
   "metadata": {},
   "outputs": [
    {
     "data": {
      "text/plain": [
       "matrix([[1., 0., 0., ..., 0., 0., 0.],\n",
       "        [0., 1., 0., ..., 0., 0., 0.],\n",
       "        [0., 0., 1., ..., 0., 0., 0.],\n",
       "        ...,\n",
       "        [0., 0., 0., ..., 0., 0., 0.],\n",
       "        [0., 0., 0., ..., 0., 0., 0.],\n",
       "        [0., 0., 0., ..., 0., 0., 0.]], dtype=float32)"
      ]
     },
     "execution_count": 51,
     "metadata": {},
     "output_type": "execute_result"
    }
   ],
   "source": [
    "item_features = dataset1.build_item_features(item_tuple, normalize= False)\n",
    "item_features.todense()"
   ]
  },
  {
   "cell_type": "code",
   "execution_count": 52,
   "metadata": {},
   "outputs": [
    {
     "data": {
      "text/plain": [
       "(41302, 41320)"
      ]
     },
     "execution_count": 52,
     "metadata": {},
     "output_type": "execute_result"
    }
   ],
   "source": [
    "item_features.shape"
   ]
  },
  {
   "cell_type": "code",
   "execution_count": 53,
   "metadata": {},
   "outputs": [
    {
     "data": {
      "text/plain": [
       "(41320, 41302)"
      ]
     },
     "execution_count": 53,
     "metadata": {},
     "output_type": "execute_result"
    }
   ],
   "source": [
    "np.transpose(item_features).shape"
   ]
  },
  {
   "cell_type": "code",
   "execution_count": 54,
   "metadata": {},
   "outputs": [
    {
     "data": {
      "text/plain": [
       "(127496, 41320)"
      ]
     },
     "execution_count": 54,
     "metadata": {},
     "output_type": "execute_result"
    }
   ],
   "source": [
    "ratings_coo.shape"
   ]
  },
  {
   "cell_type": "code",
   "execution_count": 55,
   "metadata": {},
   "outputs": [],
   "source": [
    "user_id_map, user_feature_map, item_id_map, item_feature_map = dataset1.mapping()"
   ]
  },
  {
   "cell_type": "markdown",
   "metadata": {},
   "source": [
    "Добавление новых фич ухудшает показатели модели, поэтому было принято решение от них отказаться."
   ]
  },
  {
   "cell_type": "markdown",
   "metadata": {},
   "source": [
    "# Шаг 3. Строим модель и считаем roc_auc"
   ]
  },
  {
   "cell_type": "code",
   "execution_count": 56,
   "metadata": {},
   "outputs": [
    {
     "name": "stdout",
     "output_type": "stream",
     "text": [
      "model for no_components=30, learning_rate=0.1, epochs=30 . . .\n",
      "206724 206724\n",
      "101.9s, roc_auc_score: 0.70949\n"
     ]
    }
   ],
   "source": [
    "NUM_THREADS = 4 #число потоков\n",
    "\n",
    "model_prev = None\n",
    "no_components_prev = None\n",
    "learning_rate_prev = None\n",
    "\n",
    "def get_model(no_components, learning_rate):\n",
    "    global model_prev, no_components_prev, learning_rate_prev\n",
    "    model = model_prev if model_prev is not None and no_components_prev == no_components else LightFM(loss='logistic',learning_rate=learning_rate, no_components=no_components)\n",
    "    model_prev = model  \n",
    "    learning_rate_prev = learning_rate\n",
    "    no_components_prev = no_components\n",
    "    return model\n",
    "\n",
    "def fit_model(no_components, learning_rate, epochs):\n",
    "    model = get_model(no_components, learning_rate)\n",
    "    model = model.fit(ratings_coo, epochs=epochs, num_threads=NUM_THREADS)\n",
    "    #model = model.fit(ratings_coo, epochs=epochs, num_threads=NUM_THREADS,item_features=np.transpose(item_features))\n",
    "    return model\n",
    "\n",
    "def get_roc_auc_score(params):   \n",
    "    no_components = params[\"no_components\"][\"actual\"]\n",
    "    learning_rate = params[\"learning_rate\"][\"actual\"]\n",
    "    learning_rate_round = params[\"learning_rate\"][\"round\"]\n",
    "    epochs = params[\"epochs\"][\"actual\"]\n",
    "    print(f\"model for no_components={no_components}, learning_rate={round(learning_rate, learning_rate_round)}, epochs={epochs} . . .\")\n",
    "    import time\n",
    "    start = time.time()\n",
    "    model = fit_model(no_components, learning_rate, epochs)\n",
    "    print(len(test_data.userid.values), len(test_data.itemid.values))\n",
    "    preds = model.predict(test_data.userid.values, test_data.itemid.values)\n",
    "    roc_auc_score = sklearn.metrics.roc_auc_score(test_data.rating, preds)\n",
    "    print(f\"{round(time.time() - start, 1)}s, roc_auc_score: {round(roc_auc_score, 5)}\")\n",
    "    return roc_auc_score\n",
    "    \n",
    "no_components = 30\n",
    "learning_rate = 0.1\n",
    "epochs = 30\n",
    "params = {\n",
    "    \"no_components\": {\n",
    "        \"actual\": 30,\n",
    "    },\n",
    "    \"learning_rate\": {\n",
    "        \"actual\": 0.1,\n",
    "        \"round\": 3,\n",
    "    },\n",
    "    \"epochs\": {\n",
    "        \"actual\": 30,\n",
    "    },\n",
    "}\n",
    "roc_auc_score = get_roc_auc_score(params)\n"
   ]
  },
  {
   "cell_type": "markdown",
   "metadata": {},
   "source": [
    "# Шаг 4. Подберем гиперпараметры."
   ]
  },
  {
   "cell_type": "code",
   "execution_count": 58,
   "metadata": {},
   "outputs": [
    {
     "name": "stdout",
     "output_type": "stream",
     "text": [
      "Start . . .\n",
      "model for no_components=1, learning_rate=0.1, epochs=8 . . .\n",
      "206724 206724\n",
      "3.3s, roc_auc_score: 0.70084\n",
      "model for no_components=128, learning_rate=0.1, epochs=1 . . .\n",
      "206724 206724\n",
      "13.3s, roc_auc_score: 0.62385\n",
      "model for no_components=1, learning_rate=0.2, epochs=1 . . .\n",
      "206724 206724\n",
      "0.5s, roc_auc_score: 0.64655\n",
      "roc_auc: 0.70084, delta: 0.70084 for epochs: 8/8, no_components: 1/128, learning_rate: 0.1/0.1\n",
      "model for no_components=1, learning_rate=0.1, epochs=16 . . .\n",
      "206724 206724\n",
      "6.5s, roc_auc_score: 0.70161\n",
      "model for no_components=128, learning_rate=0.1, epochs=8 . . .\n",
      "206724 206724\n",
      "103.2s, roc_auc_score: 0.71663\n",
      "model for no_components=1, learning_rate=0.2, epochs=8 . . .\n",
      "206724 206724\n",
      "3.4s, roc_auc_score: 0.71337\n",
      "roc_auc: 0.71663, delta: 0.01579 for epochs: 8/8, no_components: 128/128, learning_rate: 0.1/0.1\n",
      "model for no_components=128, learning_rate=0.1, epochs=16 . . .\n",
      "206724 206724\n",
      "205.1s, roc_auc_score: 0.7291\n",
      "model for no_components=256, learning_rate=0.1, epochs=8 . . .\n",
      "206724 206724\n",
      "200.4s, roc_auc_score: 0.71591\n",
      "model for no_components=128, learning_rate=0.2, epochs=8 . . .\n",
      "206724 206724\n",
      "103.5s, roc_auc_score: 0.73304\n",
      "roc_auc: 0.73304, delta: 0.01641 for epochs: 8/8, no_components: 128/128, learning_rate: 0.2/0.1\n",
      "model for no_components=128, learning_rate=0.2, epochs=16 . . .\n",
      "206724 206724\n",
      "205.3s, roc_auc_score: 0.72129\n",
      "model for no_components=256, learning_rate=0.2, epochs=8 . . .\n",
      "206724 206724\n",
      "199.4s, roc_auc_score: 0.73269\n",
      "model for no_components=128, learning_rate=0.3, epochs=8 . . .\n",
      "206724 206724\n",
      "103.0s, roc_auc_score: 0.72763\n",
      "epochs_step: -4\n",
      "model for no_components=128, learning_rate=0.2, epochs=4 . . .\n",
      "206724 206724\n",
      "51.9s, roc_auc_score: 0.73385\n",
      "model for no_components=256, learning_rate=0.2, epochs=8 . . .\n",
      "206724 206724\n",
      "199.3s, roc_auc_score: 0.73268\n",
      "model for no_components=128, learning_rate=0.3, epochs=8 . . .\n",
      "206724 206724\n",
      "102.7s, roc_auc_score: 0.72812\n",
      "roc_auc: 0.73385, delta: 0.00081 for epochs: 4/-4, no_components: 128/128, learning_rate: 0.2/0.1\n",
      "model for no_components=128, learning_rate=0.2, epochs=0 . . .\n",
      "206724 206724\n",
      "0.6s, roc_auc_score: 0.49943\n",
      "model for no_components=256, learning_rate=0.2, epochs=4 . . .\n",
      "206724 206724\n",
      "99.9s, roc_auc_score: 0.72062\n",
      "model for no_components=128, learning_rate=0.3, epochs=4 . . .\n",
      "206724 206724\n",
      "52.2s, roc_auc_score: 0.73377\n",
      "epochs_step: 2\n",
      "model for no_components=128, learning_rate=0.2, epochs=6 . . .\n",
      "206724 206724\n",
      "77.5s, roc_auc_score: 0.73333\n",
      "model for no_components=256, learning_rate=0.2, epochs=4 . . .\n",
      "206724 206724\n",
      "102.8s, roc_auc_score: 0.72044\n",
      "model for no_components=128, learning_rate=0.3, epochs=4 . . .\n",
      "206724 206724\n",
      "51.9s, roc_auc_score: 0.73379\n",
      "no_components_step: -64\n",
      "model for no_components=128, learning_rate=0.2, epochs=6 . . .\n",
      "206724 206724\n",
      "77.9s, roc_auc_score: 0.73244\n",
      "model for no_components=64, learning_rate=0.2, epochs=4 . . .\n",
      "206724 206724\n",
      "26.9s, roc_auc_score: 0.72206\n",
      "model for no_components=128, learning_rate=0.3, epochs=4 . . .\n",
      "206724 206724\n",
      "51.3s, roc_auc_score: 0.73339\n",
      "no_components_step: 32\n",
      "model for no_components=128, learning_rate=0.2, epochs=6 . . .\n",
      "206724 206724\n",
      "77.5s, roc_auc_score: 0.73268\n",
      "model for no_components=160, learning_rate=0.2, epochs=4 . . .\n",
      "206724 206724\n",
      "64.6s, roc_auc_score: 0.72135\n",
      "model for no_components=128, learning_rate=0.3, epochs=4 . . .\n",
      "206724 206724\n",
      "51.5s, roc_auc_score: 0.73382\n",
      "no_components_step: -16\n",
      "model for no_components=128, learning_rate=0.2, epochs=6 . . .\n",
      "206724 206724\n",
      "75.9s, roc_auc_score: 0.73225\n",
      "model for no_components=112, learning_rate=0.2, epochs=4 . . .\n",
      "206724 206724\n",
      "44.7s, roc_auc_score: 0.72152\n",
      "model for no_components=128, learning_rate=0.3, epochs=4 . . .\n",
      "206724 206724\n",
      "52.3s, roc_auc_score: 0.73369\n",
      "no_components_step: 8\n",
      "model for no_components=128, learning_rate=0.2, epochs=6 . . .\n",
      "206724 206724\n",
      "78.1s, roc_auc_score: 0.73291\n",
      "model for no_components=136, learning_rate=0.2, epochs=4 . . .\n",
      "206724 206724\n",
      "57.0s, roc_auc_score: 0.72147\n",
      "model for no_components=128, learning_rate=0.3, epochs=4 . . .\n",
      "206724 206724\n",
      "51.6s, roc_auc_score: 0.73342\n",
      "no_components_step: -4\n",
      "model for no_components=128, learning_rate=0.2, epochs=6 . . .\n",
      "206724 206724\n",
      "77.1s, roc_auc_score: 0.73265\n",
      "model for no_components=124, learning_rate=0.2, epochs=4 . . .\n",
      "206724 206724\n",
      "50.2s, roc_auc_score: 0.7215\n",
      "model for no_components=128, learning_rate=0.3, epochs=4 . . .\n",
      "206724 206724\n",
      "51.9s, roc_auc_score: 0.73372\n",
      "no_components_step: 2\n",
      "model for no_components=128, learning_rate=0.2, epochs=6 . . .\n",
      "206724 206724\n",
      "76.7s, roc_auc_score: 0.73268\n",
      "model for no_components=130, learning_rate=0.2, epochs=4 . . .\n",
      "206724 206724\n",
      "51.9s, roc_auc_score: 0.72154\n",
      "model for no_components=128, learning_rate=0.3, epochs=4 . . .\n",
      "206724 206724\n",
      "52.4s, roc_auc_score: 0.73347\n",
      "no_components_step: -1\n",
      "model for no_components=128, learning_rate=0.2, epochs=6 . . .\n",
      "206724 206724\n",
      "76.4s, roc_auc_score: 0.73224\n",
      "model for no_components=127, learning_rate=0.2, epochs=4 . . .\n",
      "206724 206724\n",
      "51.7s, roc_auc_score: 0.72131\n",
      "model for no_components=128, learning_rate=0.3, epochs=4 . . .\n",
      "206724 206724\n",
      "50.9s, roc_auc_score: 0.73389\n",
      "roc_auc: 0.73389, delta: 3e-05 for epochs: 4/2, no_components: 128/-1, learning_rate: 0.30000000000000004/0.1\n",
      "model for no_components=128, learning_rate=0.3, epochs=6 . . .\n",
      "206724 206724\n",
      "77.3s, roc_auc_score: 0.73171\n",
      "model for no_components=127, learning_rate=0.3, epochs=4 . . .\n",
      "206724 206724\n",
      "52.3s, roc_auc_score: 0.73381\n",
      "model for no_components=128, learning_rate=0.4, epochs=4 . . .\n",
      "206724 206724\n",
      "52.2s, roc_auc_score: 0.73497\n",
      "roc_auc: 0.73497, delta: 0.00109 for epochs: 4/2, no_components: 128/-1, learning_rate: 0.4/0.1\n",
      "model for no_components=128, learning_rate=0.4, epochs=6 . . .\n",
      "206724 206724\n",
      "76.5s, roc_auc_score: 0.72808\n",
      "model for no_components=127, learning_rate=0.4, epochs=4 . . .\n",
      "206724 206724\n",
      "50.6s, roc_auc_score: 0.73448\n",
      "model for no_components=128, learning_rate=0.5, epochs=4 . . .\n",
      "206724 206724\n",
      "51.5s, roc_auc_score: 0.73097\n",
      "epochs_step: -1\n",
      "model for no_components=128, learning_rate=0.4, epochs=3 . . .\n",
      "206724 206724\n",
      "38.8s, roc_auc_score: 0.73564\n",
      "model for no_components=127, learning_rate=0.4, epochs=4 . . .\n",
      "206724 206724\n",
      "51.4s, roc_auc_score: 0.73574\n",
      "model for no_components=128, learning_rate=0.5, epochs=4 . . .\n",
      "206724 206724\n",
      "51.8s, roc_auc_score: 0.73219\n",
      "roc_auc: 0.73574, delta: 0.00076 for epochs: 4/-1, no_components: 127/-1, learning_rate: 0.4/0.1\n",
      "model for no_components=127, learning_rate=0.4, epochs=3 . . .\n",
      "206724 206724\n",
      "39.2s, roc_auc_score: 0.73493\n",
      "model for no_components=126, learning_rate=0.4, epochs=4 . . .\n",
      "206724 206724\n",
      "51.8s, roc_auc_score: 0.7344\n",
      "model for no_components=127, learning_rate=0.5, epochs=4 . . .\n",
      "206724 206724\n",
      "53.0s, roc_auc_score: 0.7322\n",
      "learning_rate_step: -0.05\n",
      "model for no_components=127, learning_rate=0.4, epochs=3 . . .\n",
      "206724 206724\n",
      "39.6s, roc_auc_score: 0.73529\n",
      "model for no_components=126, learning_rate=0.4, epochs=4 . . .\n",
      "206724 206724\n",
      "51.6s, roc_auc_score: 0.73458\n",
      "model for no_components=127, learning_rate=0.35, epochs=4 . . .\n",
      "206724 206724\n",
      "51.8s, roc_auc_score: 0.73481\n",
      "Stopped by step_min_abs\n",
      "3923.4s, Ready: roc_auc=0.73574 for epochs: 4/-1, no_components: 127/-1, learning_rate: 0.4/-0.05\n"
     ]
    }
   ],
   "source": [
    "def get_actual():\n",
    "    global no_components_min, no_components, epochs_min, epochs, learning_rate_min, learning_rate\n",
    "    no_components_actual = no_components_min if no_components < no_components_min else no_components\n",
    "    epochs_actual = epochs_min if epochs < epochs_min else epochs\n",
    "    learning_rate_actual = learning_rate_min if learning_rate < learning_rate_min else learning_rate\n",
    "    return no_components_actual, learning_rate_actual, epochs_actual\n",
    "    \n",
    "params = {\n",
    "    \"epochs\": {\n",
    "        \"val\": 0,\n",
    "        \"min\": 1,\n",
    "        \"step\": 8,\n",
    "        \"step_min_abs\": 1,\n",
    "        \"round\": 0,  \n",
    "    },\n",
    "    \"no_components\": {\n",
    "        \"val\": 0,\n",
    "        \"min\": 1,\n",
    "        \"step\": 128,\n",
    "        \"step_min_abs\": 1,\n",
    "        \"round\": 0,  \n",
    "    },\n",
    "    \"learning_rate\": {\n",
    "        \"val\": 0.1,\n",
    "        \"min\": 0.005,\n",
    "        \"step\": 0.1,\n",
    "        \"step_min_abs\": 0.005,\n",
    "        \"round\": 3,\n",
    "    },\n",
    "}\n",
    "        \n",
    "def update_actual():\n",
    "    global params\n",
    "    for k, v in params.items():\n",
    "        v[\"actual\"] = v[\"min\"] if v[\"val\"] < v[\"min\"] else v[\"val\"]\n",
    "        \n",
    "def stat():\n",
    "    global params\n",
    "    s = ''\n",
    "    update_actual()\n",
    "    for k, v in params.items():\n",
    "        if len(s) > 0:\n",
    "            s = s + \", \"\n",
    "        s = s + f'{k}: {v[\"actual\"]}/{v[\"step\"]}'\n",
    "    return s\n",
    "\n",
    "\n",
    "delta_min = 0.00001\n",
    "\n",
    "import time\n",
    "start = time.time()\n",
    "print(\"Start . . .\")\n",
    "roc_auc = 0\n",
    "import math\n",
    "while True: \n",
    "    for k, v in params.items():\n",
    "        v[\"roc_auc_delta\"] = 0 \n",
    "\n",
    "    delta = 0\n",
    "    delta_neg = 0\n",
    "    for k, v in params.items():\n",
    "        if abs(v[\"step\"]) >= v[\"step_min_abs\"]:\n",
    "            update_actual()\n",
    "            v[\"actual\"] = v[\"val\"] + v[\"step\"]\n",
    "            v[\"roc_auc_delta\"] = get_roc_auc_score(params) - roc_auc\n",
    "            if v[\"roc_auc_delta\"] > delta:\n",
    "                delta = v[\"roc_auc_delta\"]\n",
    "            elif v[\"roc_auc_delta\"] < delta_neg:\n",
    "                delta_neg = v[\"roc_auc_delta\"]\n",
    "\n",
    "    if delta >= delta_min:\n",
    "        for k, v in params.items():\n",
    "            if v[\"roc_auc_delta\"] >= delta:\n",
    "                v[\"val\"] = v[\"val\"] + v[\"step\"]\n",
    "        roc_auc = roc_auc + delta\n",
    "        \n",
    "        print(f\"roc_auc: {round(roc_auc, 5)}, delta: {round(delta, 5)} for {stat()}\")   \n",
    "    else:\n",
    "        need_stop_by_min_abs = True\n",
    "        for k, v in params.items():\n",
    "            if abs(v[\"step\"]) > v[\"step_min_abs\"]:\n",
    "                need_stop_by_min_abs = False\n",
    "                break\n",
    "        if need_stop_by_min_abs:\n",
    "            print(\"Stopped by step_min_abs\")\n",
    "            break \n",
    "        elif -delta_neg < delta_min:\n",
    "            print(f\"Stopped by delta_min: -delta_neg={-delta_neg}\")\n",
    "            break\n",
    "        else:\n",
    "            did_change_step = False\n",
    "            for k, v in params.items():\n",
    "                if abs(v[\"step\"]) > v[\"step_min_abs\"] and v[\"roc_auc_delta\"] <= delta_neg:\n",
    "                    v[\"step\"] = -round(math.copysign(abs(v[\"step\"])/2, v[\"step\"]), v[\"round\"])\n",
    "                    if v[\"round\"] == 0:\n",
    "                        v[\"step\"] = int(v[\"step\"])              \n",
    "                    print(f'{k}_step: {v[\"step\"]}')\n",
    "                    did_change_step = True\n",
    "                    break\n",
    "            if not did_change_step:\n",
    "                print(\"Stopped by step_min_abs\")\n",
    "                break\n",
    "            \n",
    "print(f\"{round(time.time() - start, 1)}s, Ready: roc_auc={round(roc_auc, 5)} for {stat()}\")\n",
    "\n",
    "\n"
   ]
  },
  {
   "cell_type": "markdown",
   "metadata": {},
   "source": [
    "# Шаг 5. Строим модель с подобранными гиперпараметрами, считаем roc_auc"
   ]
  },
  {
   "cell_type": "code",
   "execution_count": 60,
   "metadata": {},
   "outputs": [
    {
     "name": "stdout",
     "output_type": "stream",
     "text": [
      "roc_auc_score: 0.7349 for epochs: 4/-1, no_components: 127/-1, learning_rate: 0.4/-0.05\n"
     ]
    }
   ],
   "source": [
    "update_actual()\n",
    "no_components = params[\"no_components\"][\"actual\"]\n",
    "learning_rate = params[\"learning_rate\"][\"actual\"]\n",
    "epochs = params[\"epochs\"][\"actual\"]\n",
    "\n",
    "# для всего train'а:\n",
    "# no_components = 128\n",
    "# epochs = 7\n",
    "# learning_rate = 0.225\n",
    "\n",
    "# для verified его части:\n",
    "# no_components = 128\n",
    "# epochs = 10\n",
    "# learning_rate = 0.187\n",
    "\n",
    "# для verified его части (другой вариант):\n",
    "# no_components = 128\n",
    "# epochs = 6\n",
    "# learning_rate = 0.275\n",
    "\n",
    "model = fit_model(no_components, learning_rate, epochs)\n",
    "preds = model.predict(test_data.userid.values, test_data.itemid.values)\n",
    "roc_auc_score = sklearn.metrics.roc_auc_score(test_data.rating,preds)\n",
    "print(f'roc_auc_score: {round(roc_auc_score, 5)} for {stat()}')\n",
    "\n"
   ]
  },
  {
   "cell_type": "code",
   "execution_count": 61,
   "metadata": {},
   "outputs": [
    {
     "data": {
      "text/plain": [
       "(-19.396608352661133, 18.412948608398438)"
      ]
     },
     "execution_count": 61,
     "metadata": {},
     "output_type": "execute_result"
    }
   ],
   "source": [
    "preds = model.predict(test.userid.values, test.itemid.values)\n",
    "preds.min(), preds.max()"
   ]
  },
  {
   "cell_type": "code",
   "execution_count": 62,
   "metadata": {},
   "outputs": [],
   "source": [
    "normalized_preds = (preds - preds.min())/(preds - preds.min()).max()\n"
   ]
  },
  {
   "cell_type": "code",
   "execution_count": 63,
   "metadata": {},
   "outputs": [
    {
     "data": {
      "text/plain": [
       "(0.0, 1.0)"
      ]
     },
     "execution_count": 63,
     "metadata": {},
     "output_type": "execute_result"
    }
   ],
   "source": [
    "normalized_preds.min(), normalized_preds.max()\n"
   ]
  },
  {
   "cell_type": "code",
   "execution_count": 64,
   "metadata": {},
   "outputs": [
    {
     "data": {
      "text/plain": [
       "array([0.56179147, 0.54638915, 0.52701293, ..., 0.5290977 , 0.58585374,\n",
       "       0.58937096])"
      ]
     },
     "execution_count": 64,
     "metadata": {},
     "output_type": "execute_result"
    }
   ],
   "source": [
    "normalized_preds"
   ]
  },
  {
   "cell_type": "code",
   "execution_count": 65,
   "metadata": {},
   "outputs": [],
   "source": [
    "submission['rating'] = normalized_preds\n",
    "submission.to_csv('submission_fm.csv', index=False)"
   ]
  },
  {
   "cell_type": "code",
   "execution_count": 68,
   "metadata": {},
   "outputs": [
    {
     "data": {
      "text/html": [
       "<div>\n",
       "<style scoped>\n",
       "    .dataframe tbody tr th:only-of-type {\n",
       "        vertical-align: middle;\n",
       "    }\n",
       "\n",
       "    .dataframe tbody tr th {\n",
       "        vertical-align: top;\n",
       "    }\n",
       "\n",
       "    .dataframe thead th {\n",
       "        text-align: right;\n",
       "    }\n",
       "</style>\n",
       "<table border=\"1\" class=\"dataframe\">\n",
       "  <thead>\n",
       "    <tr style=\"text-align: right;\">\n",
       "      <th></th>\n",
       "      <th>Id</th>\n",
       "      <th>rating</th>\n",
       "    </tr>\n",
       "  </thead>\n",
       "  <tbody>\n",
       "    <tr>\n",
       "      <th>0</th>\n",
       "      <td>0</td>\n",
       "      <td>0.561791</td>\n",
       "    </tr>\n",
       "    <tr>\n",
       "      <th>1</th>\n",
       "      <td>1</td>\n",
       "      <td>0.546389</td>\n",
       "    </tr>\n",
       "    <tr>\n",
       "      <th>2</th>\n",
       "      <td>2</td>\n",
       "      <td>0.527013</td>\n",
       "    </tr>\n",
       "    <tr>\n",
       "      <th>3</th>\n",
       "      <td>3</td>\n",
       "      <td>0.529603</td>\n",
       "    </tr>\n",
       "    <tr>\n",
       "      <th>4</th>\n",
       "      <td>4</td>\n",
       "      <td>0.549810</td>\n",
       "    </tr>\n",
       "  </tbody>\n",
       "</table>\n",
       "</div>"
      ],
      "text/plain": [
       "   Id    rating\n",
       "0   0  0.561791\n",
       "1   1  0.546389\n",
       "2   2  0.527013\n",
       "3   3  0.529603\n",
       "4   4  0.549810"
      ]
     },
     "execution_count": 68,
     "metadata": {},
     "output_type": "execute_result"
    }
   ],
   "source": [
    "submission.head()"
   ]
  },
  {
   "cell_type": "markdown",
   "metadata": {},
   "source": [
    "# Шаг 6. Production."
   ]
  },
  {
   "cell_type": "markdown",
   "metadata": {},
   "source": [
    "Посмотреть production-сервис и дополнительные описания по нему можно по ссылке: \n",
    "\n",
    "https://github.com/yurybikuzin/skillfactory_rds4_recommendation_challenge/blob/master/README.md"
   ]
  },
  {
   "cell_type": "markdown",
   "metadata": {},
   "source": [
    "## Финальный отчет:"
   ]
  },
  {
   "cell_type": "markdown",
   "metadata": {},
   "source": [
    "   Получилось построить модель и создать сервис на основе отзывов пользователей на товары: когда пользователь просматривает карточку товара, то мы дополнительно на этой карточке показываем раздел \"We recommend\" (например), основываясь на анализе имющихся отзывов пользователей.\n",
    "    \n",
    "   В перспективе, это позволит увеличить прибыль, за счет покупок рекомендованных товаров, которые изначально пользователь не планировал покупать."
   ]
  },
  {
   "cell_type": "code",
   "execution_count": null,
   "metadata": {},
   "outputs": [],
   "source": []
  }
 ],
 "metadata": {
  "kernelspec": {
   "display_name": "Python 3",
   "language": "python",
   "name": "python3"
  },
  "language_info": {
   "codemirror_mode": {
    "name": "ipython",
    "version": 3
   },
   "file_extension": ".py",
   "mimetype": "text/x-python",
   "name": "python",
   "nbconvert_exporter": "python",
   "pygments_lexer": "ipython3",
   "version": "3.7.6"
  }
 },
 "nbformat": 4,
 "nbformat_minor": 4
}
